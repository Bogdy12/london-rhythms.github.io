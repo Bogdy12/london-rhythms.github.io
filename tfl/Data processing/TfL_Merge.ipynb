{
 "cells": [
  {
   "cell_type": "markdown",
   "metadata": {
    "collapsed": true
   },
   "source": [
    "### Merge Entry and Exit Data with Tube Coordinates Data"
   ]
  },
  {
   "cell_type": "code",
   "execution_count": 1,
   "metadata": {
    "collapsed": true
   },
   "outputs": [],
   "source": [
    "import pandas as pd \n",
    "import os"
   ]
  },
  {
   "cell_type": "code",
   "execution_count": 2,
   "metadata": {},
   "outputs": [
    {
     "data": {
      "text/plain": [
       "['.ipynb_checkpoints',\n",
       " 'Create Buffer and Convert to GeoJSON',\n",
       " 'Create Buffer and Convert to GeoJSON.R',\n",
       " 'FOI-1215.csv',\n",
       " 'London Tubestations Coordinates.csv',\n",
       " 'Merge Tube Data and Create List of Unique Unix Timestamps .ipynb',\n",
       " 'night_unix.csv',\n",
       " 'TFL Data Cleaning and Unix Timestamp Conversion.ipynb']"
      ]
     },
     "execution_count": 2,
     "metadata": {},
     "output_type": "execute_result"
    }
   ],
   "source": [
    "# check file names\n",
    "files = os.listdir(os.curdir) \n",
    "files"
   ]
  },
  {
   "cell_type": "markdown",
   "metadata": {},
   "source": [
    "#### Read in Tubestations Coordinates data "
   ]
  },
  {
   "cell_type": "code",
   "execution_count": 3,
   "metadata": {
    "scrolled": true
   },
   "outputs": [
    {
     "data": {
      "text/html": [
       "<div>\n",
       "<style>\n",
       "    .dataframe thead tr:only-child th {\n",
       "        text-align: right;\n",
       "    }\n",
       "\n",
       "    .dataframe thead th {\n",
       "        text-align: left;\n",
       "    }\n",
       "\n",
       "    .dataframe tbody tr th {\n",
       "        vertical-align: top;\n",
       "    }\n",
       "</style>\n",
       "<table border=\"1\" class=\"dataframe\">\n",
       "  <thead>\n",
       "    <tr style=\"text-align: right;\">\n",
       "      <th></th>\n",
       "      <th>Station</th>\n",
       "      <th>OS X</th>\n",
       "      <th>OS Y</th>\n",
       "      <th>Latitude</th>\n",
       "      <th>Longitude</th>\n",
       "      <th>Zone</th>\n",
       "      <th>Postcode</th>\n",
       "    </tr>\n",
       "  </thead>\n",
       "  <tbody>\n",
       "    <tr>\n",
       "      <th>0</th>\n",
       "      <td>Abbey Road</td>\n",
       "      <td>539081</td>\n",
       "      <td>183352</td>\n",
       "      <td>51.531952</td>\n",
       "      <td>0.003723</td>\n",
       "      <td>3</td>\n",
       "      <td>E15 3NB</td>\n",
       "    </tr>\n",
       "  </tbody>\n",
       "</table>\n",
       "</div>"
      ],
      "text/plain": [
       "      Station    OS X    OS Y   Latitude  Longitude Zone Postcode\n",
       "0  Abbey Road  539081  183352  51.531952   0.003723    3  E15 3NB"
      ]
     },
     "execution_count": 3,
     "metadata": {},
     "output_type": "execute_result"
    }
   ],
   "source": [
    "df1 = pd.read_csv('London Tubestations Coordinates.csv', sep=';')\n",
    "df1.head(1)"
   ]
  },
  {
   "cell_type": "code",
   "execution_count": 4,
   "metadata": {},
   "outputs": [
    {
     "data": {
      "text/plain": [
       "641"
      ]
     },
     "execution_count": 4,
     "metadata": {},
     "output_type": "execute_result"
    }
   ],
   "source": [
    "# 641 unique stations \n",
    "len(df1.Station.unique())"
   ]
  },
  {
   "cell_type": "markdown",
   "metadata": {},
   "source": [
    "#### Read in Exit and Entry data "
   ]
  },
  {
   "cell_type": "code",
   "execution_count": 5,
   "metadata": {
    "scrolled": true
   },
   "outputs": [
    {
     "data": {
      "text/html": [
       "<div>\n",
       "<style>\n",
       "    .dataframe thead tr:only-child th {\n",
       "        text-align: right;\n",
       "    }\n",
       "\n",
       "    .dataframe thead th {\n",
       "        text-align: left;\n",
       "    }\n",
       "\n",
       "    .dataframe tbody tr th {\n",
       "        vertical-align: top;\n",
       "    }\n",
       "</style>\n",
       "<table border=\"1\" class=\"dataframe\">\n",
       "  <thead>\n",
       "    <tr style=\"text-align: right;\">\n",
       "      <th></th>\n",
       "      <th>Unnamed: 0</th>\n",
       "      <th>Date</th>\n",
       "      <th>Station</th>\n",
       "      <th>Time</th>\n",
       "      <th>Entries</th>\n",
       "      <th>Exits</th>\n",
       "      <th>unix</th>\n",
       "    </tr>\n",
       "  </thead>\n",
       "  <tbody>\n",
       "    <tr>\n",
       "      <th>0</th>\n",
       "      <td>0</td>\n",
       "      <td>19/8/2016</td>\n",
       "      <td>Bank</td>\n",
       "      <td>2:00:00</td>\n",
       "      <td>137</td>\n",
       "      <td>74</td>\n",
       "      <td>1.471568e+09</td>\n",
       "    </tr>\n",
       "  </tbody>\n",
       "</table>\n",
       "</div>"
      ],
      "text/plain": [
       "   Unnamed: 0       Date Station     Time  Entries  Exits          unix\n",
       "0           0  19/8/2016    Bank  2:00:00      137     74  1.471568e+09"
      ]
     },
     "execution_count": 5,
     "metadata": {},
     "output_type": "execute_result"
    }
   ],
   "source": [
    "df2 = pd.read_csv('night_unix.csv', sep = ',')\n",
    "df2.head(1)"
   ]
  },
  {
   "cell_type": "code",
   "execution_count": 6,
   "metadata": {},
   "outputs": [
    {
     "data": {
      "text/plain": [
       "148"
      ]
     },
     "execution_count": 6,
     "metadata": {},
     "output_type": "execute_result"
    }
   ],
   "source": [
    "# 148 unique stations \n",
    "len(df2.Station.unique())"
   ]
  },
  {
   "cell_type": "code",
   "execution_count": 7,
   "metadata": {
    "collapsed": true
   },
   "outputs": [],
   "source": [
    "pd.options.mode.chained_assignment = None"
   ]
  },
  {
   "cell_type": "markdown",
   "metadata": {},
   "source": [
    "#### Join Datasets "
   ]
  },
  {
   "cell_type": "code",
   "execution_count": 8,
   "metadata": {
    "collapsed": true
   },
   "outputs": [],
   "source": [
    "new_df = pd.merge(df1, df2, on=\"Station\", how='inner')"
   ]
  },
  {
   "cell_type": "code",
   "execution_count": 9,
   "metadata": {},
   "outputs": [
    {
     "data": {
      "text/plain": [
       "122"
      ]
     },
     "execution_count": 9,
     "metadata": {},
     "output_type": "execute_result"
    }
   ],
   "source": [
    "len(new_df.Station.unique())\n",
    "# only 122 stations left after inner join "
   ]
  },
  {
   "cell_type": "markdown",
   "metadata": {},
   "source": [
    "Right join to get a list of station names that are not mering correctly. Afterwards looking at the London Tubestations Coordinates CSV file to check what is wrong. "
   ]
  },
  {
   "cell_type": "code",
   "execution_count": 10,
   "metadata": {},
   "outputs": [
    {
     "data": {
      "text/plain": [
       "array(['Bethnal Green LU', 'Brixton LU', 'Euston LU', 'Finsbury Park LU',\n",
       "       'Highbury & Islington', 'Kings Cross LU (North)',\n",
       "       'Liverpool Street LU', 'Shepherds Bush LU', 'St Pauls',\n",
       "       'Vauxhall LU', 'Victoria LU', 'Canary Wharf LU (E1)',\n",
       "       'London Bridge LU', 'St Johns Wood', 'Waterloo LU (Bloo/Nthn/W&C)',\n",
       "       'West Hampstead LU', 'Balham LU', 'Totteridge',\n",
       "       'Waterloo LU (Jubilee)', 'Canary Wharf LU (E2)', 'Hammersmith D&P',\n",
       "       'Heathrow Terminal 4 LU', 'Heathrow Terminal 5 LU',\n",
       "       'Heathrow Terminals 123 LU', 'Kings Cross LU (Tube)',\n",
       "       'Kings Cross LU (Western)'], dtype=object)"
      ]
     },
     "execution_count": 10,
     "metadata": {},
     "output_type": "execute_result"
    }
   ],
   "source": [
    "new_df = pd.merge(df1, df2, on=\"Station\", how='right')\n",
    "nan_rows = new_df [new_df .isnull().T.any().T]\n",
    "nan_rows.Station.unique()"
   ]
  },
  {
   "cell_type": "markdown",
   "metadata": {},
   "source": [
    "Change station names"
   ]
  },
  {
   "cell_type": "code",
   "execution_count": 11,
   "metadata": {
    "collapsed": true
   },
   "outputs": [],
   "source": [
    "df2['Station'][df2.Station == 'Bethnal Green LU'] = \"Bethnal Green\"\n",
    "df2['Station'][df2.Station == 'Brixton LU'] = \"Brixton\"\n",
    "df2['Station'][df2.Station == 'Euston LU'] = \"Euston\"\n",
    "df2['Station'][df2.Station == 'Finsbury Park LU'] = \"Finsbury Park\"\n",
    "df2['Station'][df2.Station == 'Highbury & Islington'] = \"Highbury and Islington\"\n",
    "df2['Station'][df2.Station == 'Liverpool Street LU'] = \"Liverpool Street\"\n",
    "df2['Station'][df2.Station == 'Shepherds Bush LU'] = \"Shepherds Bush\"\n",
    "df2['Station'][df2.Station == 'St Pauls'] = \"St. Pauls\"\n",
    "df2['Station'][df2.Station == 'Vauxhall LU'] = \"Vauxhall\"\n",
    "df2['Station'][df2.Station == 'Victoria LU'] = \"Victoria\"\n",
    "df2['Station'][df2.Station == 'London Bridge LU'] = \"London Bridge\"\n",
    "df2['Station'][df2.Station == 'St Johns Wood'] = \"St. Johns Wood\"\n",
    "df2['Station'][df2.Station == 'West Hampstead LU'] = \"West Hampstead\"\n",
    "df2['Station'][df2.Station == 'Victoria LU'] = \"Victoria\"\n",
    "df2['Station'][df2.Station == 'Balham LU'] = \"Balham\"\n",
    "df2['Station'][df2.Station == 'Totteridge'] = \"Totteridge and Whetstone\"\n",
    "df2['Station'][df2.Station == 'Hammersmith D&P'] = \"Hammersmith (District)\"\n",
    "df2['Station'][df2.Station == 'Heathrow Terminal 4 LU'] = \"Heathrow Terminal 4\"\n",
    "df2['Station'][df2.Station == 'Heathrow Terminal 5 LU'] = \"Heathrow Terminal 5\"\n",
    "df2['Station'][df2.Station == 'Heathrow Terminals 123 LU'] = \"Heathrow Terminals 1 2 3\"\n",
    "\n",
    "# mentioned only once in london tubestations coordinates file              \n",
    "df2['Station'][df2.Station == 'Kings Cross LU (North)'] = \"King's Cross\"\n",
    "df2['Station'][df2.Station == 'Kings Cross LU (Tube)'] = \"King's Cross\"\n",
    "df2['Station'][df2.Station == 'Kings Cross LU (Western)'] = \"King's Cross\"\n",
    "df2['Station'][df2.Station == 'Canary Wharf LU (E1)'] = \"Canary Wharf\"\n",
    "df2['Station'][df2.Station == 'Canary Wharf LU (E2)'] = \"Canary Wharf\"\n",
    "df2['Station'][df2.Station == 'Waterloo LU (Bloo/Nthn/W&C)'] = \"Waterloo\"\n",
    "df2['Station'][df2.Station == 'Waterloo LU (Jubilee)'] = \"Waterloo\""
   ]
  },
  {
   "cell_type": "markdown",
   "metadata": {},
   "source": [
    "Aggregate stations that occur multiple times"
   ]
  },
  {
   "cell_type": "code",
   "execution_count": 12,
   "metadata": {
    "collapsed": true
   },
   "outputs": [],
   "source": [
    "df_Exits = df2.groupby(['Station','unix'], as_index=False)['Exits'].sum()"
   ]
  },
  {
   "cell_type": "code",
   "execution_count": 13,
   "metadata": {
    "collapsed": true
   },
   "outputs": [],
   "source": [
    "df_Entries = df2.groupby(['Station','unix'], as_index=False)['Entries'].sum()"
   ]
  },
  {
   "cell_type": "code",
   "execution_count": 14,
   "metadata": {},
   "outputs": [
    {
     "data": {
      "text/plain": [
       "31510"
      ]
     },
     "execution_count": 14,
     "metadata": {},
     "output_type": "execute_result"
    }
   ],
   "source": [
    "df_Exits.head()\n",
    "len(df_Exits)"
   ]
  },
  {
   "cell_type": "code",
   "execution_count": 15,
   "metadata": {},
   "outputs": [
    {
     "data": {
      "text/plain": [
       "31510"
      ]
     },
     "execution_count": 15,
     "metadata": {},
     "output_type": "execute_result"
    }
   ],
   "source": [
    "df_Entries.head()\n",
    "len(df_Entries)"
   ]
  },
  {
   "cell_type": "code",
   "execution_count": 16,
   "metadata": {
    "collapsed": true
   },
   "outputs": [],
   "source": [
    "df_combined = pd.merge(df_Exits, df_Entries, on=[\"Station\", \"unix\"], how='inner')"
   ]
  },
  {
   "cell_type": "code",
   "execution_count": 17,
   "metadata": {},
   "outputs": [
    {
     "data": {
      "text/plain": [
       "31510"
      ]
     },
     "execution_count": 17,
     "metadata": {},
     "output_type": "execute_result"
    }
   ],
   "source": [
    "df_combined.head()\n",
    "len(df_combined)"
   ]
  },
  {
   "cell_type": "code",
   "execution_count": 18,
   "metadata": {},
   "outputs": [
    {
     "data": {
      "text/plain": [
       "144"
      ]
     },
     "execution_count": 18,
     "metadata": {},
     "output_type": "execute_result"
    }
   ],
   "source": [
    "len(df_combined.Station.unique())\n",
    "# 144 stations "
   ]
  },
  {
   "cell_type": "code",
   "execution_count": 19,
   "metadata": {
    "scrolled": false
   },
   "outputs": [
    {
     "data": {
      "text/html": [
       "<div>\n",
       "<style>\n",
       "    .dataframe thead tr:only-child th {\n",
       "        text-align: right;\n",
       "    }\n",
       "\n",
       "    .dataframe thead th {\n",
       "        text-align: left;\n",
       "    }\n",
       "\n",
       "    .dataframe tbody tr th {\n",
       "        vertical-align: top;\n",
       "    }\n",
       "</style>\n",
       "<table border=\"1\" class=\"dataframe\">\n",
       "  <thead>\n",
       "    <tr style=\"text-align: right;\">\n",
       "      <th></th>\n",
       "      <th>Station</th>\n",
       "      <th>unix</th>\n",
       "      <th>Exits</th>\n",
       "      <th>Entries</th>\n",
       "    </tr>\n",
       "  </thead>\n",
       "  <tbody>\n",
       "    <tr>\n",
       "      <th>0</th>\n",
       "      <td>Acton Town</td>\n",
       "      <td>1.481854e+09</td>\n",
       "      <td>95</td>\n",
       "      <td>9</td>\n",
       "    </tr>\n",
       "  </tbody>\n",
       "</table>\n",
       "</div>"
      ],
      "text/plain": [
       "      Station          unix  Exits  Entries\n",
       "0  Acton Town  1.481854e+09     95        9"
      ]
     },
     "execution_count": 19,
     "metadata": {},
     "output_type": "execute_result"
    }
   ],
   "source": [
    "df_combined.head(1)"
   ]
  },
  {
   "cell_type": "markdown",
   "metadata": {},
   "source": [
    "New merge"
   ]
  },
  {
   "cell_type": "code",
   "execution_count": 20,
   "metadata": {},
   "outputs": [
    {
     "data": {
      "text/plain": [
       "array([], dtype=object)"
      ]
     },
     "execution_count": 20,
     "metadata": {},
     "output_type": "execute_result"
    }
   ],
   "source": [
    "new_df = pd.merge(df1, df_combined, on=\"Station\", how='inner')\n",
    "nan_rows = new_df [new_df .isnull().T.any().T]\n",
    "nan_rows.Station.unique()"
   ]
  },
  {
   "cell_type": "code",
   "execution_count": 21,
   "metadata": {},
   "outputs": [
    {
     "data": {
      "text/html": [
       "<div>\n",
       "<style>\n",
       "    .dataframe thead tr:only-child th {\n",
       "        text-align: right;\n",
       "    }\n",
       "\n",
       "    .dataframe thead th {\n",
       "        text-align: left;\n",
       "    }\n",
       "\n",
       "    .dataframe tbody tr th {\n",
       "        vertical-align: top;\n",
       "    }\n",
       "</style>\n",
       "<table border=\"1\" class=\"dataframe\">\n",
       "  <thead>\n",
       "    <tr style=\"text-align: right;\">\n",
       "      <th></th>\n",
       "      <th>Station</th>\n",
       "      <th>OS X</th>\n",
       "      <th>OS Y</th>\n",
       "      <th>Latitude</th>\n",
       "      <th>Longitude</th>\n",
       "      <th>Zone</th>\n",
       "      <th>Postcode</th>\n",
       "      <th>unix</th>\n",
       "      <th>Exits</th>\n",
       "      <th>Entries</th>\n",
       "    </tr>\n",
       "  </thead>\n",
       "  <tbody>\n",
       "    <tr>\n",
       "      <th>0</th>\n",
       "      <td>Acton Town</td>\n",
       "      <td>519457</td>\n",
       "      <td>179639</td>\n",
       "      <td>51.503071</td>\n",
       "      <td>-0.280303</td>\n",
       "      <td>3</td>\n",
       "      <td>W3 8HN</td>\n",
       "      <td>1.481854e+09</td>\n",
       "      <td>95</td>\n",
       "      <td>9</td>\n",
       "    </tr>\n",
       "  </tbody>\n",
       "</table>\n",
       "</div>"
      ],
      "text/plain": [
       "      Station    OS X    OS Y   Latitude  Longitude Zone Postcode  \\\n",
       "0  Acton Town  519457  179639  51.503071  -0.280303    3   W3 8HN   \n",
       "\n",
       "           unix  Exits  Entries  \n",
       "0  1.481854e+09     95        9  "
      ]
     },
     "execution_count": 21,
     "metadata": {},
     "output_type": "execute_result"
    }
   ],
   "source": [
    "new_df.head(1)"
   ]
  },
  {
   "cell_type": "code",
   "execution_count": 22,
   "metadata": {},
   "outputs": [
    {
     "data": {
      "text/html": [
       "<div>\n",
       "<style>\n",
       "    .dataframe thead tr:only-child th {\n",
       "        text-align: right;\n",
       "    }\n",
       "\n",
       "    .dataframe thead th {\n",
       "        text-align: left;\n",
       "    }\n",
       "\n",
       "    .dataframe tbody tr th {\n",
       "        vertical-align: top;\n",
       "    }\n",
       "</style>\n",
       "<table border=\"1\" class=\"dataframe\">\n",
       "  <thead>\n",
       "    <tr style=\"text-align: right;\">\n",
       "      <th></th>\n",
       "      <th>Station</th>\n",
       "      <th>Latitude</th>\n",
       "      <th>Longitude</th>\n",
       "      <th>unix</th>\n",
       "      <th>Exits</th>\n",
       "      <th>Entries</th>\n",
       "    </tr>\n",
       "  </thead>\n",
       "  <tbody>\n",
       "    <tr>\n",
       "      <th>0</th>\n",
       "      <td>Acton Town</td>\n",
       "      <td>51.503071</td>\n",
       "      <td>-0.280303</td>\n",
       "      <td>1.481854e+09</td>\n",
       "      <td>95</td>\n",
       "      <td>9</td>\n",
       "    </tr>\n",
       "  </tbody>\n",
       "</table>\n",
       "</div>"
      ],
      "text/plain": [
       "      Station   Latitude  Longitude          unix  Exits  Entries\n",
       "0  Acton Town  51.503071  -0.280303  1.481854e+09     95        9"
      ]
     },
     "execution_count": 22,
     "metadata": {},
     "output_type": "execute_result"
    }
   ],
   "source": [
    "# drop columns that are not going to be used\n",
    "new_df = new_df.drop(['OS X', 'OS Y', 'Zone', 'Postcode'], axis=1)\n",
    "new_df.head(1)"
   ]
  },
  {
   "cell_type": "markdown",
   "metadata": {},
   "source": [
    "Save new dataframe as CSV file "
   ]
  },
  {
   "cell_type": "code",
   "execution_count": 23,
   "metadata": {
    "collapsed": true
   },
   "outputs": [],
   "source": [
    "new_df.to_csv('London stations final unixtime coordinates.csv',index = False, header = True)"
   ]
  },
  {
   "cell_type": "markdown",
   "metadata": {},
   "source": [
    "#### Create unique list of UNIX timestamps"
   ]
  },
  {
   "cell_type": "code",
   "execution_count": 24,
   "metadata": {
    "collapsed": true
   },
   "outputs": [],
   "source": [
    "unique_unixtimes = [df2.unix.unique()]"
   ]
  },
  {
   "cell_type": "code",
   "execution_count": 25,
   "metadata": {},
   "outputs": [
    {
     "data": {
      "text/plain": [
       "324"
      ]
     },
     "execution_count": 25,
     "metadata": {},
     "output_type": "execute_result"
    }
   ],
   "source": [
    "unix = []\n",
    "for i in unique_unixtimes:\n",
    "    for j in i:\n",
    "        u = [j]\n",
    "        unix = unix + u\n",
    "len(unix)\n",
    "# 324 unique unixtimes "
   ]
  },
  {
   "cell_type": "code",
   "execution_count": 26,
   "metadata": {},
   "outputs": [
    {
     "data": {
      "text/plain": [
       "[array([  1.47156840e+09,   1.47157020e+09,   1.47157200e+09,\n",
       "          1.47157380e+09,   1.47157560e+09,   1.47157740e+09,\n",
       "          1.47165480e+09,   1.47165660e+09,   1.47165840e+09,\n",
       "          1.47166020e+09,   1.47166200e+09,   1.47166380e+09,\n",
       "          1.47217320e+09,   1.47217500e+09,   1.47217680e+09,\n",
       "          1.47217860e+09,   1.47218040e+09,   1.47218220e+09,\n",
       "          1.47225960e+09,   1.47226140e+09,   1.47226320e+09,\n",
       "          1.47226500e+09,   1.47226680e+09,   1.47226860e+09,\n",
       "          1.47277800e+09,   1.47277980e+09,   1.47278160e+09,\n",
       "          1.47278340e+09,   1.47278520e+09,   1.47278700e+09,\n",
       "          1.47286440e+09,   1.47286620e+09,   1.47286800e+09,\n",
       "          1.47286980e+09,   1.47287160e+09,   1.47287340e+09,\n",
       "          1.47338280e+09,   1.47338460e+09,   1.47338640e+09,\n",
       "          1.47338820e+09,   1.47339000e+09,   1.47339180e+09,\n",
       "          1.47346920e+09,   1.47347100e+09,   1.47347280e+09,\n",
       "          1.47347460e+09,   1.47347640e+09,   1.47347820e+09,\n",
       "          1.47398760e+09,   1.47398940e+09,   1.47399120e+09,\n",
       "          1.47399300e+09,   1.47399480e+09,   1.47399660e+09,\n",
       "          1.47407400e+09,   1.47407580e+09,   1.47407760e+09,\n",
       "          1.47407940e+09,   1.47408120e+09,   1.47408300e+09,\n",
       "          1.47459240e+09,   1.47459420e+09,   1.47459600e+09,\n",
       "          1.47459780e+09,   1.47459960e+09,   1.47460140e+09,\n",
       "          1.47467880e+09,   1.47468060e+09,   1.47468240e+09,\n",
       "          1.47468420e+09,   1.47468600e+09,   1.47468780e+09,\n",
       "          1.47519720e+09,   1.47519900e+09,   1.47520080e+09,\n",
       "          1.47520260e+09,   1.47520440e+09,   1.47520620e+09,\n",
       "          1.47528360e+09,   1.47528540e+09,   1.47528720e+09,\n",
       "          1.47528900e+09,   1.47529080e+09,   1.47529260e+09,\n",
       "          1.47580200e+09,   1.47580380e+09,   1.47580560e+09,\n",
       "          1.47580740e+09,   1.47580920e+09,   1.47581100e+09,\n",
       "          1.47588840e+09,   1.47589020e+09,   1.47589200e+09,\n",
       "          1.47589380e+09,   1.47589560e+09,   1.47589740e+09,\n",
       "          1.47640680e+09,   1.47640860e+09,   1.47641040e+09,\n",
       "          1.47641220e+09,   1.47641400e+09,   1.47641580e+09,\n",
       "          1.47649320e+09,   1.47649500e+09,   1.47649680e+09,\n",
       "          1.47649860e+09,   1.47650040e+09,   1.47650220e+09,\n",
       "          1.47701160e+09,   1.47701340e+09,   1.47701520e+09,\n",
       "          1.47701700e+09,   1.47701880e+09,   1.47702060e+09,\n",
       "          1.47709800e+09,   1.47709980e+09,   1.47710160e+09,\n",
       "          1.47710340e+09,   1.47710520e+09,   1.47710700e+09,\n",
       "          1.47761640e+09,   1.47761820e+09,   1.47762000e+09,\n",
       "          1.47762180e+09,   1.47762360e+09,   1.47762540e+09,\n",
       "          1.47770280e+09,   1.47770460e+09,   1.47770640e+09,\n",
       "          1.47770820e+09,   1.47771000e+09,   1.47771180e+09,\n",
       "          1.47822480e+09,   1.47822660e+09,   1.47822840e+09,\n",
       "          1.47823020e+09,   1.47823200e+09,   1.47823380e+09,\n",
       "          1.47831120e+09,   1.47831300e+09,   1.47831480e+09,\n",
       "          1.47831660e+09,   1.47831840e+09,   1.47832020e+09,\n",
       "          1.47882960e+09,   1.47883140e+09,   1.47883320e+09,\n",
       "          1.47883500e+09,   1.47883680e+09,   1.47883860e+09,\n",
       "          1.47891600e+09,   1.47891780e+09,   1.47891960e+09,\n",
       "          1.47892140e+09,   1.47892320e+09,   1.47892500e+09,\n",
       "          1.47943440e+09,   1.47943620e+09,   1.47943800e+09,\n",
       "          1.47943980e+09,   1.47944160e+09,   1.47944340e+09,\n",
       "          1.47952080e+09,   1.47952260e+09,   1.47952440e+09,\n",
       "          1.47952620e+09,   1.47952800e+09,   1.47952980e+09,\n",
       "          1.48003920e+09,   1.48004100e+09,   1.48004280e+09,\n",
       "          1.48004460e+09,   1.48004640e+09,   1.48004820e+09,\n",
       "          1.48012560e+09,   1.48012740e+09,   1.48012920e+09,\n",
       "          1.48013100e+09,   1.48013280e+09,   1.48013460e+09,\n",
       "          1.48064400e+09,   1.48064580e+09,   1.48064760e+09,\n",
       "          1.48064940e+09,   1.48065120e+09,   1.48065300e+09,\n",
       "          1.48073040e+09,   1.48073220e+09,   1.48073400e+09,\n",
       "          1.48073580e+09,   1.48073760e+09,   1.48073940e+09,\n",
       "          1.48124880e+09,   1.48125060e+09,   1.48125240e+09,\n",
       "          1.48125420e+09,   1.48125600e+09,   1.48125780e+09,\n",
       "          1.48133520e+09,   1.48133700e+09,   1.48133880e+09,\n",
       "          1.48134060e+09,   1.48134240e+09,   1.48134420e+09,\n",
       "          1.48185360e+09,   1.48185540e+09,   1.48185720e+09,\n",
       "          1.48185900e+09,   1.48186080e+09,   1.48186260e+09,\n",
       "          1.48194000e+09,   1.48194180e+09,   1.48194360e+09,\n",
       "          1.48194540e+09,   1.48194720e+09,   1.48194900e+09,\n",
       "          1.48245840e+09,   1.48246020e+09,   1.48246200e+09,\n",
       "          1.48246380e+09,   1.48246560e+09,   1.48246740e+09,\n",
       "          1.48254480e+09,   1.48254840e+09,   1.48255020e+09,\n",
       "          1.48255200e+09,   1.48255380e+09,   1.48254660e+09,\n",
       "          1.48306320e+09,   1.48306500e+09,   1.48306680e+09,\n",
       "          1.48306860e+09,   1.48307040e+09,   1.48307220e+09,\n",
       "          1.48314960e+09,   1.48315140e+09,   1.48315320e+09,\n",
       "          1.48315500e+09,   1.48315680e+09,   1.48315860e+09,\n",
       "          1.48366800e+09,   1.48366980e+09,   1.48367160e+09,\n",
       "          1.48367340e+09,   1.48367520e+09,   1.48367700e+09,\n",
       "          1.48375440e+09,   1.48375620e+09,   1.48375800e+09,\n",
       "          1.48375980e+09,   1.48376160e+09,   1.48376340e+09,\n",
       "          1.48427280e+09,   1.48427460e+09,   1.48427640e+09,\n",
       "          1.48427820e+09,   1.48428000e+09,   1.48428180e+09,\n",
       "          1.48435920e+09,   1.48436100e+09,   1.48436280e+09,\n",
       "          1.48436460e+09,   1.48436640e+09,   1.48436820e+09,\n",
       "          1.48487760e+09,   1.48487940e+09,   1.48488120e+09,\n",
       "          1.48488300e+09,   1.48488480e+09,   1.48488660e+09,\n",
       "          1.48496400e+09,   1.48496580e+09,   1.48496760e+09,\n",
       "          1.48496940e+09,   1.48497120e+09,   1.48497300e+09,\n",
       "          1.48548240e+09,   1.48548420e+09,   1.48548600e+09,\n",
       "          1.48548780e+09,   1.48548960e+09,   1.48549140e+09,\n",
       "          1.48556880e+09,   1.48557060e+09,   1.48557240e+09,\n",
       "          1.48557420e+09,   1.48557600e+09,   1.48557780e+09,\n",
       "          1.48608720e+09,   1.48608900e+09,   1.48609080e+09,\n",
       "          1.48609260e+09,   1.48609440e+09,   1.48609620e+09,\n",
       "          1.48617360e+09,   1.48617540e+09,   1.48617720e+09,\n",
       "          1.48617900e+09,   1.48618080e+09,   1.48618260e+09,\n",
       "          1.48669200e+09,   1.48669380e+09,   1.48669560e+09,\n",
       "          1.48669740e+09,   1.48669920e+09,   1.48670100e+09,\n",
       "          1.48677840e+09,   1.48678020e+09,   1.48678200e+09,\n",
       "          1.48678380e+09,   1.48678560e+09,   1.48678740e+09,\n",
       "          1.48729680e+09,   1.48729860e+09,   1.48730040e+09,\n",
       "          1.48730220e+09,   1.48730400e+09,   1.48730580e+09,\n",
       "          1.48738320e+09,   1.48738500e+09,   1.48738680e+09,\n",
       "          1.48738860e+09,   1.48739040e+09,   1.48739220e+09])]"
      ]
     },
     "execution_count": 26,
     "metadata": {},
     "output_type": "execute_result"
    }
   ],
   "source": [
    "unique_unixtimes\n",
    "# copy array into javascript"
   ]
  }
 ],
 "metadata": {
  "kernelspec": {
   "display_name": "Python 3",
   "language": "python",
   "name": "python3"
  },
  "language_info": {
   "codemirror_mode": {
    "name": "ipython",
    "version": 3
   },
   "file_extension": ".py",
   "mimetype": "text/x-python",
   "name": "python",
   "nbconvert_exporter": "python",
   "pygments_lexer": "ipython3",
   "version": "3.6.1"
  }
 },
 "nbformat": 4,
 "nbformat_minor": 2
}
