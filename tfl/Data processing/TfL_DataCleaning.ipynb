{
 "cells": [
  {
   "cell_type": "markdown",
   "metadata": {},
   "source": [
    "## Data cleaning for TFL Data and Unix Timestamp Conversion"
   ]
  },
  {
   "cell_type": "code",
   "execution_count": 1,
   "metadata": {
    "collapsed": true
   },
   "outputs": [],
   "source": [
    "import pandas as pd\n",
    "import numpy as np\n",
    "from datetime import datetime\n",
    "import time\n",
    "import datetime\n",
    "import os"
   ]
  },
  {
   "cell_type": "code",
   "execution_count": 2,
   "metadata": {
    "scrolled": true
   },
   "outputs": [
    {
     "data": {
      "text/plain": [
       "['.ipynb_checkpoints',\n",
       " 'Create Buffer and Convert to GeoJSON.R',\n",
       " 'FOI-1215.csv',\n",
       " 'London Tubestations Coordinates.csv',\n",
       " 'Merge Tube Data and Create List of Unique Unix Timestamps .ipynb',\n",
       " 'TFL Data Cleaning and Unix Timestamp Conversion.ipynb']"
      ]
     },
     "execution_count": 2,
     "metadata": {},
     "output_type": "execute_result"
    }
   ],
   "source": [
    "# check file names\n",
    "files = os.listdir(os.curdir) \n",
    "files"
   ]
  },
  {
   "cell_type": "code",
   "execution_count": 3,
   "metadata": {
    "collapsed": true
   },
   "outputs": [],
   "source": [
    "night_tube = pd.read_csv(\"FOI-1215.csv\") \n",
    "# recorded entry and exit taps at each station"
   ]
  },
  {
   "cell_type": "code",
   "execution_count": 4,
   "metadata": {
    "collapsed": true
   },
   "outputs": [],
   "source": [
    "night_tube = night_tube.rename(columns = {\"Station Name\":\"Station\", \"Number of Entries\": \"Entries\", \"Number of Exits\": \"Exits\"})"
   ]
  },
  {
   "cell_type": "code",
   "execution_count": 5,
   "metadata": {
    "scrolled": true
   },
   "outputs": [
    {
     "data": {
      "text/html": [
       "<div>\n",
       "<style>\n",
       "    .dataframe thead tr:only-child th {\n",
       "        text-align: right;\n",
       "    }\n",
       "\n",
       "    .dataframe thead th {\n",
       "        text-align: left;\n",
       "    }\n",
       "\n",
       "    .dataframe tbody tr th {\n",
       "        vertical-align: top;\n",
       "    }\n",
       "</style>\n",
       "<table border=\"1\" class=\"dataframe\">\n",
       "  <thead>\n",
       "    <tr style=\"text-align: right;\">\n",
       "      <th></th>\n",
       "      <th>Date</th>\n",
       "      <th>Station</th>\n",
       "      <th>Time</th>\n",
       "      <th>Entries</th>\n",
       "      <th>Exits</th>\n",
       "    </tr>\n",
       "  </thead>\n",
       "  <tbody>\n",
       "    <tr>\n",
       "      <th>0</th>\n",
       "      <td>19/8/2016</td>\n",
       "      <td>Bank</td>\n",
       "      <td>0:30:00</td>\n",
       "      <td>228</td>\n",
       "      <td>77</td>\n",
       "    </tr>\n",
       "    <tr>\n",
       "      <th>1</th>\n",
       "      <td>19/8/2016</td>\n",
       "      <td>Bank</td>\n",
       "      <td>1:00:00</td>\n",
       "      <td>189</td>\n",
       "      <td>117</td>\n",
       "    </tr>\n",
       "    <tr>\n",
       "      <th>2</th>\n",
       "      <td>19/8/2016</td>\n",
       "      <td>Bank</td>\n",
       "      <td>1:30:00</td>\n",
       "      <td>184</td>\n",
       "      <td>104</td>\n",
       "    </tr>\n",
       "    <tr>\n",
       "      <th>3</th>\n",
       "      <td>19/8/2016</td>\n",
       "      <td>Bank</td>\n",
       "      <td>2:00:00</td>\n",
       "      <td>137</td>\n",
       "      <td>74</td>\n",
       "    </tr>\n",
       "    <tr>\n",
       "      <th>4</th>\n",
       "      <td>19/8/2016</td>\n",
       "      <td>Bank</td>\n",
       "      <td>2:30:00</td>\n",
       "      <td>84</td>\n",
       "      <td>37</td>\n",
       "    </tr>\n",
       "  </tbody>\n",
       "</table>\n",
       "</div>"
      ],
      "text/plain": [
       "        Date Station     Time Entries Exits\n",
       "0  19/8/2016    Bank  0:30:00     228    77\n",
       "1  19/8/2016    Bank  1:00:00     189   117\n",
       "2  19/8/2016    Bank  1:30:00     184   104\n",
       "3  19/8/2016    Bank  2:00:00     137    74\n",
       "4  19/8/2016    Bank  2:30:00      84    37"
      ]
     },
     "execution_count": 5,
     "metadata": {},
     "output_type": "execute_result"
    }
   ],
   "source": [
    "night_tube.head()"
   ]
  },
  {
   "cell_type": "markdown",
   "metadata": {},
   "source": [
    "Subset night tube data based on relevant time - same as survey data"
   ]
  },
  {
   "cell_type": "code",
   "execution_count": 6,
   "metadata": {
    "collapsed": true,
    "scrolled": true
   },
   "outputs": [],
   "source": [
    "lst = [\"2:00:00\", \"2:30:00\", \"3:00:00\", \"3:30:00\", \"4:00:00\", \"4:30:00\"]"
   ]
  },
  {
   "cell_type": "code",
   "execution_count": 7,
   "metadata": {
    "collapsed": true
   },
   "outputs": [],
   "source": [
    "night_tube = night_tube[night_tube[\"Time\"].isin(lst)] \n",
    "# remove time with data"
   ]
  },
  {
   "cell_type": "code",
   "execution_count": 8,
   "metadata": {
    "collapsed": true
   },
   "outputs": [],
   "source": [
    "night_tube = night_tube.replace(to_replace = \"Fewer than 5\", value = int(0)) \n",
    "# replace fewer than 5 with 0"
   ]
  },
  {
   "cell_type": "code",
   "execution_count": 9,
   "metadata": {
    "collapsed": true
   },
   "outputs": [],
   "source": [
    "cols = [\"Entries\", \"Exits\"] \n",
    "# make all values integers\n",
    "night_tube[cols] = night_tube[cols].applymap(np.int64) \n",
    "# convert entry exit data to integer"
   ]
  },
  {
   "cell_type": "code",
   "execution_count": 10,
   "metadata": {
    "collapsed": true
   },
   "outputs": [],
   "source": [
    "night_tube = night_tube.reset_index()"
   ]
  },
  {
   "cell_type": "code",
   "execution_count": 11,
   "metadata": {},
   "outputs": [
    {
     "data": {
      "text/html": [
       "<div>\n",
       "<style>\n",
       "    .dataframe thead tr:only-child th {\n",
       "        text-align: right;\n",
       "    }\n",
       "\n",
       "    .dataframe thead th {\n",
       "        text-align: left;\n",
       "    }\n",
       "\n",
       "    .dataframe tbody tr th {\n",
       "        vertical-align: top;\n",
       "    }\n",
       "</style>\n",
       "<table border=\"1\" class=\"dataframe\">\n",
       "  <thead>\n",
       "    <tr style=\"text-align: right;\">\n",
       "      <th></th>\n",
       "      <th>Date</th>\n",
       "      <th>Station</th>\n",
       "      <th>Time</th>\n",
       "      <th>Entries</th>\n",
       "      <th>Exits</th>\n",
       "    </tr>\n",
       "  </thead>\n",
       "  <tbody>\n",
       "    <tr>\n",
       "      <th>0</th>\n",
       "      <td>19/8/2016</td>\n",
       "      <td>Bank</td>\n",
       "      <td>2:00:00</td>\n",
       "      <td>137</td>\n",
       "      <td>74</td>\n",
       "    </tr>\n",
       "  </tbody>\n",
       "</table>\n",
       "</div>"
      ],
      "text/plain": [
       "        Date Station     Time  Entries  Exits\n",
       "0  19/8/2016    Bank  2:00:00      137     74"
      ]
     },
     "execution_count": 11,
     "metadata": {},
     "output_type": "execute_result"
    }
   ],
   "source": [
    "night_tube = night_tube.drop(\"index\", axis = 1)\n",
    "night_tube.head(1)"
   ]
  },
  {
   "cell_type": "code",
   "execution_count": 12,
   "metadata": {},
   "outputs": [
    {
     "data": {
      "text/plain": [
       "(31960,)"
      ]
     },
     "execution_count": 12,
     "metadata": {},
     "output_type": "execute_result"
    }
   ],
   "source": [
    "dt = night_tube.Date.str.cat(night_tube.Time, sep = \" \")\n",
    "dt.head()\n",
    "dt.shape"
   ]
  },
  {
   "cell_type": "markdown",
   "metadata": {},
   "source": [
    "Convert to unixtime"
   ]
  },
  {
   "cell_type": "code",
   "execution_count": 13,
   "metadata": {
    "collapsed": true
   },
   "outputs": [],
   "source": [
    "night_tube['unix'] = [time.mktime(datetime.datetime.strptime(x, \"%d/%m/%Y %H:%M:%S\").timetuple()) for x in dt]"
   ]
  },
  {
   "cell_type": "code",
   "execution_count": 14,
   "metadata": {
    "scrolled": true
   },
   "outputs": [
    {
     "data": {
      "text/html": [
       "<div>\n",
       "<style>\n",
       "    .dataframe thead tr:only-child th {\n",
       "        text-align: right;\n",
       "    }\n",
       "\n",
       "    .dataframe thead th {\n",
       "        text-align: left;\n",
       "    }\n",
       "\n",
       "    .dataframe tbody tr th {\n",
       "        vertical-align: top;\n",
       "    }\n",
       "</style>\n",
       "<table border=\"1\" class=\"dataframe\">\n",
       "  <thead>\n",
       "    <tr style=\"text-align: right;\">\n",
       "      <th></th>\n",
       "      <th>Date</th>\n",
       "      <th>Station</th>\n",
       "      <th>Time</th>\n",
       "      <th>Entries</th>\n",
       "      <th>Exits</th>\n",
       "      <th>unix</th>\n",
       "    </tr>\n",
       "  </thead>\n",
       "  <tbody>\n",
       "    <tr>\n",
       "      <th>0</th>\n",
       "      <td>19/8/2016</td>\n",
       "      <td>Bank</td>\n",
       "      <td>2:00:00</td>\n",
       "      <td>137</td>\n",
       "      <td>74</td>\n",
       "      <td>1.471568e+09</td>\n",
       "    </tr>\n",
       "  </tbody>\n",
       "</table>\n",
       "</div>"
      ],
      "text/plain": [
       "        Date Station     Time  Entries  Exits          unix\n",
       "0  19/8/2016    Bank  2:00:00      137     74  1.471568e+09"
      ]
     },
     "execution_count": 14,
     "metadata": {},
     "output_type": "execute_result"
    }
   ],
   "source": [
    "night_tube.head(1)"
   ]
  },
  {
   "cell_type": "markdown",
   "metadata": {},
   "source": [
    "Save new dataframe as CSV file "
   ]
  },
  {
   "cell_type": "code",
   "execution_count": 15,
   "metadata": {
    "collapsed": true
   },
   "outputs": [],
   "source": [
    "night_tube.to_csv(\"night_unix.csv\")"
   ]
  }
 ],
 "metadata": {
  "kernelspec": {
   "display_name": "Python 3",
   "language": "python",
   "name": "python3"
  },
  "language_info": {
   "codemirror_mode": {
    "name": "ipython",
    "version": 3
   },
   "file_extension": ".py",
   "mimetype": "text/x-python",
   "name": "python",
   "nbconvert_exporter": "python",
   "pygments_lexer": "ipython3",
   "version": "3.6.1"
  }
 },
 "nbformat": 4,
 "nbformat_minor": 2
}
